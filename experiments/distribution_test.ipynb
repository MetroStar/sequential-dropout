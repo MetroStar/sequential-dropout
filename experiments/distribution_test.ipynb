{
 "cells": [
  {
   "cell_type": "code",
   "execution_count": null,
   "metadata": {},
   "outputs": [],
   "source": [
    "import sys  \n",
    "sys.path.append('../models/')\n",
    "import ExampleModels as em\n",
    "import torchvision\n",
    "from torchvision import transforms\n",
    "import torch"
   ]
  },
  {
   "cell_type": "code",
   "execution_count": null,
   "metadata": {},
   "outputs": [],
   "source": [
    "def get_dataset():\n",
    "    data_dir = '../dataset'\n",
    "    train_dataset = torchvision.datasets.MNIST(data_dir, train=True, download=True)\n",
    "    test_dataset  = torchvision.datasets.MNIST(data_dir, train=False, download=True)\n",
    "    train_transform = transforms.Compose([\n",
    "        transforms.ToTensor(),\n",
    "    ])\n",
    "\n",
    "    test_transform = transforms.Compose([\n",
    "        transforms.ToTensor(),\n",
    "    ])\n",
    "\n",
    "    train_dataset.transform = train_transform\n",
    "    test_dataset.transform = test_transform\n",
    "\n",
    "    m=len(train_dataset)\n",
    "\n",
    "    #train_data, val_data = random_split(train_dataset, [int(m-m*0.2), int(m*0.2)])\n",
    "    batch_size=32\n",
    "\n",
    "    train_loader = torch.utils.data.DataLoader(train_dataset, batch_size=batch_size)\n",
    "    #valid_loader = torch.utils.data.DataLoader(val_data, batch_size=batch_size)\n",
    "    test_loader = torch.utils.data.DataLoader(test_dataset, batch_size=batch_size,shuffle=True)\n",
    "    \n",
    "    return train_dataset, test_dataset, train_loader, test_loader\n",
    "\n",
    "train_dataset, test_dataset, train_loader, test_loader = get_dataset()"
   ]
  },
  {
   "cell_type": "code",
   "execution_count": null,
   "metadata": {},
   "outputs": [],
   "source": [
    "# train distribution scaled model and evaluate\n",
    "max_embed_size = 40\n",
    "min_p = 0.1\n",
    "ae = em.MNISTAutoEncoder(max_embed_size,use_sq_dr= True,dr_min_p= min_p, scale_output=True)\n",
    "\n",
    "num_epochs = 20\n",
    "diz_loss = {'train_loss':[],'val_loss':[]}\n",
    "for epoch in range(num_epochs):\n",
    "    train_loss =ae.train_epoch(train_loader)\n",
    "    val_loss = ae.test_epoch(test_loader)\n",
    "    print('EPOCH {}/{} \\t train loss {} \\t val loss {}'.format(epoch + 1, num_epochs,train_loss,val_loss))\n",
    "    diz_loss['train_loss'].append(float(train_loss))\n",
    "    diz_loss['val_loss'].append(float(val_loss))"
   ]
  },
  {
   "cell_type": "code",
   "execution_count": null,
   "metadata": {},
   "outputs": [],
   "source": [
    "# train a normal model and evaluate\n",
    "\n",
    "max_embed_size = 40\n",
    "min_p = 0.1\n",
    "ae = em.MNISTAutoEncoder(max_embed_size,use_sq_dr= True,dr_min_p= min_p, scale_output=False)\n",
    "\n",
    "num_epochs = 20\n",
    "niz_loss = {'train_loss':[],'val_loss':[]}\n",
    "for epoch in range(num_epochs):\n",
    "    train_loss =ae.train_epoch(train_loader)\n",
    "    val_loss = ae.test_epoch(test_loader)\n",
    "    print('EPOCH {}/{} \\t train loss {} \\t val loss {}'.format(epoch + 1, num_epochs,train_loss,val_loss))\n",
    "    niz_loss['train_loss'].append(float(train_loss))\n",
    "    niz_loss['val_loss'].append(float(val_loss))"
   ]
  },
  {
   "cell_type": "code",
   "execution_count": null,
   "metadata": {},
   "outputs": [],
   "source": [
    "import matplotlib.pyplot as plt\n",
    "\n",
    "plt.plot(diz_loss['train_loss'],label='scaled')\n",
    "plt.plot(niz_loss['train_loss'],label='normal')\n",
    "plt.plot(diz_loss['val_loss'],label='scaled_val')\n",
    "plt.plot(niz_loss['val_loss'],label='normal_val')\n",
    "plt.legend()\n",
    "plt.show()"
   ]
  },
  {
   "cell_type": "code",
   "execution_count": null,
   "metadata": {},
   "outputs": [],
   "source": []
  }
 ],
 "metadata": {
  "kernelspec": {
   "display_name": ".venv",
   "language": "python",
   "name": "python3"
  },
  "language_info": {
   "codemirror_mode": {
    "name": "ipython",
    "version": 3
   },
   "file_extension": ".py",
   "mimetype": "text/x-python",
   "name": "python",
   "nbconvert_exporter": "python",
   "pygments_lexer": "ipython3",
   "version": "3.8.10"
  }
 },
 "nbformat": 4,
 "nbformat_minor": 2
}
